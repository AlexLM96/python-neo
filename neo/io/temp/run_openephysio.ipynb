{
 "cells": [
  {
   "cell_type": "code",
   "execution_count": 1,
   "metadata": {
    "collapsed": true
   },
   "outputs": [],
   "source": [
    "import neo"
   ]
  },
  {
   "cell_type": "code",
   "execution_count": 2,
   "metadata": {
    "collapsed": false
   },
   "outputs": [
    {
     "data": {
      "text/plain": [
       "[neo.io.alphaomegaio.AlphaOmegaIO,\n",
       " neo.io.asciisignalio.AsciiSignalIO,\n",
       " neo.io.asciispiketrainio.AsciiSpikeTrainIO,\n",
       " neo.io.axonio.AxonIO,\n",
       " neo.io.blackrockio.BlackrockIO,\n",
       " neo.io.brainvisionio.BrainVisionIO,\n",
       " neo.io.brainwaredamio.BrainwareDamIO,\n",
       " neo.io.brainwaref32io.BrainwareF32IO,\n",
       " neo.io.brainwaresrcio.BrainwareSrcIO,\n",
       " neo.io.elanio.ElanIO,\n",
       " neo.io.elphyio.ElphyIO,\n",
       " neo.io.exampleio.ExampleIO,\n",
       " neo.io.klustakwikio.KlustaKwikIO,\n",
       " neo.io.micromedio.MicromedIO,\n",
       " neo.io.hdf5io.NeoHdf5IO,\n",
       " neo.io.neomatlabio.NeoMatlabIO,\n",
       " neo.io.neuroexplorerio.NeuroExplorerIO,\n",
       " neo.io.neuroscopeio.NeuroScopeIO,\n",
       " neo.io.neurosharectypesio.NeurosharectypesIO,\n",
       " neo.io.pickleio.PickleIO,\n",
       " neo.io.plexonio.PlexonIO,\n",
       " neo.io.pynnio.PyNNNumpyIO,\n",
       " neo.io.pynnio.PyNNTextIO,\n",
       " neo.io.rawbinarysignalio.RawBinarySignalIO,\n",
       " neo.io.spike2io.Spike2IO,\n",
       " neo.io.stimfitio.StimfitIO,\n",
       " neo.io.tdtio.TdtIO,\n",
       " neo.io.winedrio.WinEdrIO,\n",
       " neo.io.winwcpio.WinWcpIO]"
      ]
     },
     "execution_count": 2,
     "metadata": {},
     "output_type": "execute_result"
    }
   ],
   "source": [
    "neo.io.iolist"
   ]
  },
  {
   "cell_type": "code",
   "execution_count": null,
   "metadata": {
    "collapsed": true
   },
   "outputs": [],
   "source": []
  }
 ],
 "metadata": {
  "kernelspec": {
   "display_name": "Python 2",
   "language": "python",
   "name": "python2"
  },
  "language_info": {
   "codemirror_mode": {
    "name": "ipython",
    "version": 2
   },
   "file_extension": ".py",
   "mimetype": "text/x-python",
   "name": "python",
   "nbconvert_exporter": "python",
   "pygments_lexer": "ipython2",
   "version": "2.7.9"
  }
 },
 "nbformat": 4,
 "nbformat_minor": 0
}
